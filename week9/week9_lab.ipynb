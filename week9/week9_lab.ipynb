{
  "nbformat": 4,
  "nbformat_minor": 0,
  "metadata": {
    "colab": {
      "name": "week9_lab.ipynb",
      "provenance": [],
      "collapsed_sections": []
    },
    "kernelspec": {
      "name": "python3",
      "display_name": "Python 3"
    }
  },
  "cells": [
    {
      "cell_type": "code",
      "metadata": {
        "id": "Mxz20UyQD8hU"
      },
      "source": [
        "import pymssql\n",
        "host = 'hostIP'\n",
        "user = 'user'\n",
        "password = 'pass'\n",
        "database = user"
      ],
      "execution_count": 10,
      "outputs": []
    },
    {
      "cell_type": "markdown",
      "metadata": {
        "id": "RksoPxdFGNiL"
      },
      "source": [
        ""
      ]
    },
    {
      "cell_type": "code",
      "metadata": {
        "id": "A03nhuU7FO2z"
      },
      "source": [
        "## Cursor의 활용 -> 문자 % 포맷을 이용한 쿼리 (직접입력)\n",
        "\n",
        "## MSSQL 접속\n",
        "conn = pymssql.connect(host, user, password, database)\n",
        "\n",
        "## Connection으로부터 Cursor 생성\n",
        "cursor = conn.cursor()\n",
        "\n",
        "## SQL문 작성\n",
        "query = \"SELECT * FROM student WHERE dept_name = %s\"\n",
        "\n",
        "## SQL 실행\n",
        "cursor.execute(query, 'Comp.Sci.')\n",
        "\n",
        "## SQL문 결과 모두 가져오기\n",
        "rows = cursor.fetchall()\n",
        "for row in rows:\n",
        "  print(row, type(row))\n",
        "\n",
        "## DB 접속 종료\n",
        "conn.close()"
      ],
      "execution_count": null,
      "outputs": []
    },
    {
      "cell_type": "code",
      "metadata": {
        "id": "LQgtbf9CHeM_"
      },
      "source": [
        "## Cursor의 활용 -> 문자 % 포맷을 이용한 쿼리 (변수 활용 및 입력)\n",
        "\n",
        "## 검색 할 학과명 입력\n",
        "dept_name = input()\n",
        "\n",
        "## MSSQL 접속\n",
        "conn = pymssql.connect(host, user, password, database)\n",
        "\n",
        "## Connection으로부터 Cursor 생성\n",
        "cursor = conn.cursor()\n",
        "\n",
        "## SQL문 작성\n",
        "query = \"SELECT * FROM student WHERE dept_name = %s\"\n",
        "\n",
        "## SQL 실행\n",
        "cursor.execute(query, dept_name)\n",
        "\n",
        "## SQL문 결과 모두 가져오기\n",
        "rows = cursor.fetchall()\n",
        "for row in rows:\n",
        "  print(row, type(row))\n",
        "\n",
        "## DB 접속 종료\n",
        "conn.close()\n"
      ],
      "execution_count": null,
      "outputs": []
    },
    {
      "cell_type": "code",
      "metadata": {
        "id": "cMFFJX4dH3Uc"
      },
      "source": [
        "## Cursor의 활용 -> 문자 % 포맷을 이용한 다중 쿼리 (INSERT문 사용)\n",
        "\n",
        "## MSSQL 접속\n",
        "conn = pymssql.connect(host, user, password, database)\n",
        "\n",
        "## Connection으로부터 Cursor 생성\n",
        "cursor = conn.cursor()\n",
        "\n",
        "## SQL문 작성 //  id = char, name = varchar, dept_name = varchar, tot_cred = int\n",
        "query = \"INSERT INTO student VALUES (%s, %s, %s, %d)\"\n",
        "\n",
        "## SQL 실행 //  id, name, dept_name, tot_cred\n",
        "cursor.executemany(query, [('00001', 'name1', 'Comp.Sci.', 16),\n",
        "                           ('00002', 'name3', 'History.', 80),\n",
        "                           ('00003', 'name2', 'Biology.', 104)])\n",
        "\n",
        "## SQL문 결과 적용하기\n",
        "conn.commit()\n",
        "\n",
        "## DB 접속 종료\n",
        "conn.close()\n"
      ],
      "execution_count": 16,
      "outputs": []
    },
    {
      "cell_type": "code",
      "metadata": {
        "id": "xd-gaFQ2Jlpo"
      },
      "source": [
        "## 위 결과 확인\n",
        "\n",
        "## MSSQL 접속\n",
        "conn = pymssql.connect(host, user, password, database)\n",
        "\n",
        "## Connection으로부터 Cursor 생성\n",
        "cursor = conn.cursor()\n",
        "\n",
        "## SQL문 작성\n",
        "query = \"SELECT * FROM student\"\n",
        "\n",
        "## SQL 실행\n",
        "cursor.execute(query)\n",
        "\n",
        "## SQL문 결과 모두 가져오기\n",
        "rows = cursor.fetchall()\n",
        "for row in rows:\n",
        "  print(row, type(row))\n",
        "\n",
        "## DB 접속 종료\n",
        "conn.close()"
      ],
      "execution_count": null,
      "outputs": []
    },
    {
      "cell_type": "code",
      "metadata": {
        "id": "y6p4WTIHKQZ1"
      },
      "source": [
        "## Cursor의 활용 -> 문자 % 포맷을 이용한 다중 쿼리 (DELETE 문 사용)\n",
        "\n",
        "## MSSQL 접속\n",
        "conn = pymssql.connect(host, user, password, database)\n",
        "\n",
        "## Connection으로부터 Cursor 생성\n",
        "cursor = conn.cursor()\n",
        "\n",
        "## SQL문 작성\n",
        "query = \"DELETE FROM student WHERE name = %s\"\n",
        "\n",
        "## SQL 실행\n",
        "cursor.executemany(query, ['name1', 'name2', 'name3'])\n",
        "\n",
        "## SQL문 결과 적용하기\n",
        "conn.commit()\n",
        "\n",
        "## DB 접속 종료\n",
        "conn.close()\n"
      ],
      "execution_count": 18,
      "outputs": []
    },
    {
      "cell_type": "code",
      "metadata": {
        "id": "cRbx-oojLrYi"
      },
      "source": [
        "## 저장 프로시저\n",
        "\n",
        "## MSSQL 접속\n",
        "conn = pymssql.connect(host, user, password, database)\n",
        "\n",
        "## Connection으로부터 Cursor 생성\n",
        "cursor = conn.cursor()\n",
        "\n",
        "## SQL문 작성\n",
        "sproc = 'sp_help'\n",
        "\n",
        "## SQL문 실행\n",
        "row = cursor.callproc('sp_helptext', ('sp_databases', ))\n",
        "\n",
        "## SQL문 결과 모두 가져오기\n",
        "for row in cursor :\n",
        "  print(row, type(row))\n",
        "\n",
        "## DB 접속 종료\n",
        "conn.close()\n"
      ],
      "execution_count": null,
      "outputs": []
    },
    {
      "cell_type": "code",
      "metadata": {
        "id": "4wxds6aQXxM7",
        "outputId": "d84a0439-c26c-4f5a-8678-ab4dc049c16a",
        "colab": {
          "base_uri": "https://localhost:8080/"
        }
      },
      "source": [
        "## 과제 2번 \n",
        "## Q. student 테이블의 데이터를 INSERT하는 프로그램 작성\n",
        "## 사용자에게 직접 입력을 받아라(id = 19999, name = TESTINPUT, dept_name = History, tot_cred: 120)\n",
        "\n",
        "id = input('id: ')\n",
        "name = input('name: ')\n",
        "dept_name = input('dept_name: ')\n",
        "tot_cred = input('tot_cred: ')\n",
        "\n",
        "## MSSQL 접속\n",
        "conn = pymssql.connect(host, user, password, database)\n",
        "\n",
        "## Connection으로부터 Cursor 생성\n",
        "cursor = conn.cursor()\n",
        "\n",
        "## SQL문 작성 //  id = char, name = varchar, dept_name = varchar, tot_cred = int\n",
        "query = \"INSERT INTO student VALUES (%s, %s, %s, %d)\"\n",
        "\n",
        "## SQL 실행 //  id, name, dept_name, tot_cred\n",
        "cursor.execute(query, (id,name,dept_name,tot_cred))\n",
        "\n",
        "## SQL문 결과 적용하기\n",
        "conn.commit()\n",
        "\n",
        "## 삽입되어 갱신된 SQL문 작성\n",
        "query2 = \"SELECT * FROM student\"\n",
        "\n",
        "## 삽입되어 갱싱된 SQL문 실행\n",
        "cursor.execute(query2)\n",
        "\n",
        "## 갱신된 SQL문 결과 출력하기\n",
        "rows = cursor.fetchall()\n",
        "for row in rows:\n",
        "  print(row, type(row))\n",
        "\n",
        "## DB 접속 종료\n",
        "conn.close()\n"
      ],
      "execution_count": 38,
      "outputs": [
        {
          "output_type": "stream",
          "text": [
            "id: 19999\n",
            "name: TESTINPUT\n",
            "dept_name: History\n",
            "tot_cred: 120\n",
            "('00128', 'Zhang', 'Comp.Sci.', 102) <class 'tuple'>\n",
            "('12345', 'Shankar', 'Comp.Sci.', 32) <class 'tuple'>\n",
            "('19991', 'Brandt', 'History', 80) <class 'tuple'>\n",
            "('19999', 'TESTINPUT', 'History', 120) <class 'tuple'>\n",
            "('23121', 'Chavez', 'Finance', 110) <class 'tuple'>\n",
            "('44553', 'Peltier', 'Physics', 56) <class 'tuple'>\n",
            "('45678', 'Levy', 'Physics', 46) <class 'tuple'>\n",
            "('54321', 'Wiliams', 'Comp.Sci.', 54) <class 'tuple'>\n",
            "('55739', 'Sanchez', 'Music', 38) <class 'tuple'>\n",
            "('70557', 'Snow', 'Physics', 0) <class 'tuple'>\n",
            "('76543', 'Brown', 'Comp.Sci.', 58) <class 'tuple'>\n",
            "('76653', 'Aoi', 'Elec.Eng.', 60) <class 'tuple'>\n",
            "('98765', 'Bourikas', 'Elec.Eng.', 98) <class 'tuple'>\n",
            "('99999', 'tester', 'Comp.Sci.', 999) <class 'tuple'>\n"
          ],
          "name": "stdout"
        }
      ]
    }
  ]
}